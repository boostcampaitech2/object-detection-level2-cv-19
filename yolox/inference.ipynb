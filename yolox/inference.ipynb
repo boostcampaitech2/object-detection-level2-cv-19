{
 "cells": [
  {
   "cell_type": "code",
   "execution_count": 2,
   "id": "1f393982-3baa-45fc-81e2-d131de0bc6ff",
   "metadata": {},
   "outputs": [],
   "source": [
    "import pickle\n",
    "with open(\"output.pickle\",\"rb\") as fr:\n",
    "    data = pickle.load(fr)"
   ]
  },
  {
   "cell_type": "code",
   "execution_count": 85,
   "id": "9cc0de43-e6a1-4ca3-898f-c20659bbb3c3",
   "metadata": {},
   "outputs": [
    {
     "data": {
      "text/plain": [
       "{'image_id': 4870,\n",
       " 'category_id': 7,\n",
       " 'bbox': [756.3570556640625,\n",
       "  330.82391357421875,\n",
       "  62.1602783203125,\n",
       "  88.8143310546875],\n",
       " 'score': 0.00010739688150351867,\n",
       " 'segmentation': []}"
      ]
     },
     "execution_count": 85,
     "metadata": {},
     "output_type": "execute_result"
    }
   ],
   "source": [
    "data[-1]"
   ]
  },
  {
   "cell_type": "code",
   "execution_count": 118,
   "id": "edaf8418-ecd2-47ed-a21d-3c4fa72eee3b",
   "metadata": {},
   "outputs": [
    {
     "data": {
      "text/plain": [
       "327080"
      ]
     },
     "execution_count": 118,
     "metadata": {},
     "output_type": "execute_result"
    }
   ],
   "source": [
    "len(data)"
   ]
  },
  {
   "cell_type": "code",
   "execution_count": 30,
   "id": "112fbd0c-4ecd-4ebe-9362-f6f0ce85d787",
   "metadata": {},
   "outputs": [],
   "source": [
    "import os\n",
    "import pandas as pd\n",
    "from pandas import DataFrame\n",
    "from pycocotools.coco import COCO\n",
    "import numpy as np"
   ]
  },
  {
   "cell_type": "code",
   "execution_count": 163,
   "id": "0f16757b-67a1-49cc-a16a-5ab33fa94d18",
   "metadata": {},
   "outputs": [
    {
     "data": {
      "text/html": [
       "<div>\n",
       "<style scoped>\n",
       "    .dataframe tbody tr th:only-of-type {\n",
       "        vertical-align: middle;\n",
       "    }\n",
       "\n",
       "    .dataframe tbody tr th {\n",
       "        vertical-align: top;\n",
       "    }\n",
       "\n",
       "    .dataframe thead th {\n",
       "        text-align: right;\n",
       "    }\n",
       "</style>\n",
       "<table border=\"1\" class=\"dataframe\">\n",
       "  <thead>\n",
       "    <tr style=\"text-align: right;\">\n",
       "      <th></th>\n",
       "      <th>PredictionString</th>\n",
       "      <th>image_id</th>\n",
       "    </tr>\n",
       "  </thead>\n",
       "  <tbody>\n",
       "    <tr>\n",
       "      <th>0</th>\n",
       "      <td>7 0.98138 216.4039 50.77592 456.36063 470.3271...</td>\n",
       "      <td>test/0000.jpg</td>\n",
       "    </tr>\n",
       "    <tr>\n",
       "      <th>1</th>\n",
       "      <td>5 0.96565 338.38007 252.33409 755.77899 697.65...</td>\n",
       "      <td>test/0001.jpg</td>\n",
       "    </tr>\n",
       "    <tr>\n",
       "      <th>2</th>\n",
       "      <td>1 0.97259 75.91368 272.43591 427.68974 601.406...</td>\n",
       "      <td>test/0002.jpg</td>\n",
       "    </tr>\n",
       "    <tr>\n",
       "      <th>3</th>\n",
       "      <td>9 0.88525 112.37469 233.92944 847.78888 857.14...</td>\n",
       "      <td>test/0003.jpg</td>\n",
       "    </tr>\n",
       "    <tr>\n",
       "      <th>4</th>\n",
       "      <td>1 0.86527 198.7211 258.5123 855.53726 785.0804...</td>\n",
       "      <td>test/0004.jpg</td>\n",
       "    </tr>\n",
       "  </tbody>\n",
       "</table>\n",
       "</div>"
      ],
      "text/plain": [
       "                                    PredictionString       image_id\n",
       "0  7 0.98138 216.4039 50.77592 456.36063 470.3271...  test/0000.jpg\n",
       "1  5 0.96565 338.38007 252.33409 755.77899 697.65...  test/0001.jpg\n",
       "2  1 0.97259 75.91368 272.43591 427.68974 601.406...  test/0002.jpg\n",
       "3  9 0.88525 112.37469 233.92944 847.78888 857.14...  test/0003.jpg\n",
       "4  1 0.86527 198.7211 258.5123 855.53726 785.0804...  test/0004.jpg"
      ]
     },
     "execution_count": 163,
     "metadata": {},
     "output_type": "execute_result"
    }
   ],
   "source": [
    "# submission 양식에 맞게 output 후처리\n",
    "prediction_strings = []\n",
    "file_names = []\n",
    "\n",
    "class_num = 10\n",
    "flag = 0\n",
    "for i in range(0,4871):\n",
    "    prediction_string = ''\n",
    "    while True:\n",
    "        tmp = list(data[flag].values())[:-1]\n",
    "        if tmp[0] !=i:\n",
    "            break;\n",
    "        prediction_string += str(tmp[1]) + ' ' + str(round(tmp[3],5)) + ' ' + str(round(tmp[2][0],5)) + ' ' + str(round(tmp[2][1],5)) + ' ' + str(round(tmp[2][2]+tmp[2][0],5)) + ' ' + str(round(tmp[2][3]+tmp[2][1],5)) + ' '\n",
    "        flag = flag + 1\n",
    "        if(flag>=len(data)):\n",
    "            break;\n",
    "    prediction_strings.append(prediction_string)\n",
    "    file_names.append('test/'+str(i).zfill(4)+'.jpg')\n",
    "    if(flag>=len(data)):\n",
    "        break;\n",
    "\n",
    "submission = pd.DataFrame()\n",
    "submission['PredictionString'] = prediction_strings\n",
    "submission['image_id'] = file_names\n",
    "submission.to_csv(os.path.join(f'submission_yolox.csv'), index=None)\n",
    "submission.head()\n"
   ]
  }
 ],
 "metadata": {
  "kernelspec": {
   "display_name": "detection",
   "language": "python",
   "name": "detection"
  },
  "language_info": {
   "codemirror_mode": {
    "name": "ipython",
    "version": 3
   },
   "file_extension": ".py",
   "mimetype": "text/x-python",
   "name": "python",
   "nbconvert_exporter": "python",
   "pygments_lexer": "ipython3",
   "version": "3.7.11"
  }
 },
 "nbformat": 4,
 "nbformat_minor": 5
}
