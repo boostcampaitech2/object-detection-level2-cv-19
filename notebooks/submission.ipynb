{
 "cells": [
  {
   "cell_type": "code",
   "execution_count": 1,
   "id": "9cc22d06-8bf6-4330-98ac-814bad788345",
   "metadata": {},
   "outputs": [],
   "source": [
    "import json\n",
    "from collections import defaultdict\n",
    "from itertools import chain\n",
    "import pandas as pd\n",
    "\n",
    "def submit_yolo(json_path, save_name):\n",
    "    \n",
    "    # open json\n",
    "    with open(json_path, 'r') as f:\n",
    "        preds = json.load(f)\n",
    "    \n",
    "    # per image classification\n",
    "    image_pred = defaultdict(list)\n",
    "\n",
    "    for bbox in preds:\n",
    "\n",
    "        img_id = bbox['image_id']\n",
    "        cls_id = bbox['category_id']\n",
    "        score = bbox['score']\n",
    "        _bbox = [str(cls_id), str(score), str(max(0, bbox['bbox'][0])), str(max(0, bbox['bbox'][1])),\n",
    "                 str(min(1024, bbox['bbox'][0] + bbox['bbox'][2])),  str(min(1024, bbox['bbox'][1] + bbox['bbox'][3]))]\n",
    "        image_pred[img_id].append(_bbox)\n",
    "    \n",
    "    # concat predictions\n",
    "    prediction_strings = []\n",
    "    file_names = []\n",
    "\n",
    "    for i in range(4871):\n",
    "        assert image_pred[i]\n",
    "        bbox = list(chain.from_iterable(image_pred[i]))\n",
    "        prediction_strings.append(' '.join(bbox) + ' ')\n",
    "        file_names.append(f'test/{i:0>4}.jpg')   \n",
    "        \n",
    "    # to csv \n",
    "    submission = pd.DataFrame()\n",
    "    submission['PredictionString'] = prediction_strings\n",
    "    submission['image_id'] = file_names\n",
    "    submission.to_csv(save_name, index=None)\n",
    "    print(submission.head())"
   ]
  },
  {
   "cell_type": "code",
   "execution_count": null,
   "id": "a0df48b4-7f45-4421-8217-8ae9acda2ba1",
   "metadata": {},
   "outputs": [
    {
     "name": "stdout",
     "output_type": "stream",
     "text": [
      "                                    PredictionString       image_id\n",
      "0  8 0.9249154925346375 595.77783203125 521.98278...  test/0000.jpg\n",
      "1  4 0.5085500478744507 341.72607421875 258.16040...  test/0001.jpg\n",
      "2  2 0.694847822189331 320.4376220703125 275.5759...  test/0002.jpg\n",
      "3  10 0.4822736382484436 66.25405883789062 194.90...  test/0003.jpg\n",
      "4  1 0.608414888381958 305.2655029296875 249.2663...  test/0004.jpg\n"
     ]
    }
   ],
   "source": [
    "json_path = 'runs/val/yolo5l6_ms_test/best_predictions.json'\n",
    "save_name = 'submission_yolo5l6_ms.csv'\n",
    "submit_yolo(json_path, save_name)"
   ]
  },
  {
   "cell_type": "code",
   "execution_count": 1,
   "id": "9978c765-8e10-4a62-b747-325e71489f19",
   "metadata": {},
   "outputs": [],
   "source": [
    "import json\n",
    "from collections import defaultdict\n",
    "from itertools import chain\n",
    "import pandas as pd\n",
    "\n",
    "def submit_effdet(json_path, save_name):\n",
    "    \n",
    "    # open json\n",
    "    with open(json_path, 'r') as f:\n",
    "        preds = json.load(f)\n",
    "    \n",
    "    # per image classification\n",
    "    image_pred = defaultdict(list)\n",
    "\n",
    "    for bbox in preds:\n",
    "\n",
    "        img_id = bbox['image_id']\n",
    "        cls_id = bbox['category_id'] - 1\n",
    "        score = bbox['score']\n",
    "        _bbox = [str(cls_id), str(score), str(max(0, bbox['bbox'][0])), str(max(0, bbox['bbox'][1])),\n",
    "                 str(min(1024, bbox['bbox'][0] + bbox['bbox'][2])),  str(min(1024, bbox['bbox'][1] + bbox['bbox'][3]))]\n",
    "        image_pred[img_id].append(_bbox)\n",
    "    \n",
    "    # concat predictions\n",
    "    prediction_strings = []\n",
    "    file_names = []\n",
    "\n",
    "    for i in range(4871):\n",
    "        assert image_pred[i]\n",
    "        bbox = list(chain.from_iterable(image_pred[i]))\n",
    "        prediction_strings.append(' '.join(bbox) + ' ')\n",
    "        file_names.append(f'test/{i:0>4}.jpg')   \n",
    "        \n",
    "    # to csv \n",
    "    submission = pd.DataFrame()\n",
    "    submission['PredictionString'] = prediction_strings\n",
    "    submission['image_id'] = file_names\n",
    "    submission.to_csv(save_name, index=None)\n",
    "    print(submission.head())"
   ]
  },
  {
   "cell_type": "code",
   "execution_count": 4,
   "id": "d961f6cd-d3a0-4b81-820f-2927a63d4bfe",
   "metadata": {},
   "outputs": [],
   "source": [
    "ll = [512, 768, 1024, 1536, 2048]"
   ]
  },
  {
   "cell_type": "code",
   "execution_count": 5,
   "id": "ada27d6d-bf7f-4169-91e4-ada553d0c9dd",
   "metadata": {},
   "outputs": [
    {
     "name": "stdout",
     "output_type": "stream",
     "text": [
      "                                    PredictionString       image_id\n",
      "0  7 0.9853515625 603.023681640625 518.6962890625...  test/0000.jpg\n",
      "1  5 0.962890625 347.0428466796875 252.3107147216...  test/0001.jpg\n",
      "2  1 0.87890625 266.9229431152344 282.23126220703...  test/0002.jpg\n",
      "3  9 0.7880859375 144.06280517578125 261.64984130...  test/0003.jpg\n",
      "4  1 0.89599609375 200.19097900390625 259.0831298...  test/0004.jpg\n",
      "                                    PredictionString       image_id\n",
      "0  7 0.98974609375 597.9700927734375 520.66442871...  test/0000.jpg\n",
      "1  5 0.8154296875 345.5226745605469 246.072784423...  test/0001.jpg\n",
      "2  0 0.9501953125 881.0947265625 463.668701171875...  test/0002.jpg\n",
      "3  9 0.90966796875 149.55050659179688 266.2111511...  test/0003.jpg\n",
      "4  0 0.87451171875 426.517578125 409.105712890625...  test/0004.jpg\n",
      "                                    PredictionString       image_id\n",
      "0  7 0.99658203125 217.0830841064453 52.693420410...  test/0000.jpg\n",
      "1  5 0.80810546875 346.2520751953125 250.10403442...  test/0001.jpg\n",
      "2  0 0.90576171875 878.9619750976562 464.61425781...  test/0002.jpg\n",
      "3  9 0.90478515625 143.33999633789062 259.8792724...  test/0003.jpg\n",
      "4  0 0.92626953125 424.6248779296875 407.79315185...  test/0004.jpg\n",
      "                                    PredictionString       image_id\n",
      "0  7 0.99560546875 217.6700439453125 52.229351043...  test/0000.jpg\n",
      "1  5 0.8203125 132.156005859375 0.626363158226013...  test/0001.jpg\n",
      "2  0 0.9150390625 879.0732421875 466.3115234375 1...  test/0002.jpg\n",
      "3  9 0.951171875 144.7249755859375 259.0518188476...  test/0003.jpg\n",
      "4  1 0.60595703125 191.5000457763672 247.86807250...  test/0004.jpg\n",
      "                                    PredictionString       image_id\n",
      "0  7 0.9970703125 215.0888671875 52.1699523925781...  test/0000.jpg\n",
      "1  5 0.802734375 343.33251953125 253.447814941406...  test/0001.jpg\n",
      "2  4 0.87890625 866.2686767578125 243.84260559082...  test/0002.jpg\n",
      "3  9 0.65673828125 432.4285888671875 263.37667846...  test/0003.jpg\n",
      "4  1 0.484375 209.95004272460938 333.430419921875...  test/0004.jpg\n"
     ]
    }
   ],
   "source": [
    "for imgsz in ll:\n",
    "    json_path = f'result{imgsz}.json'\n",
    "    save_name = f'submission_effdet_d4_ap_{imgsz}.csv'\n",
    "    submit_effdet(json_path, save_name)"
   ]
  },
  {
   "cell_type": "code",
   "execution_count": 5,
   "id": "78b5defd-f538-4eb2-a5e2-70ba81c937f3",
   "metadata": {},
   "outputs": [],
   "source": [
    "import json\n",
    "from collections import defaultdict\n",
    "from itertools import chain\n",
    "import pandas as pd\n",
    "\n",
    "def submit_clf(json_path, save_name):\n",
    "    \n",
    "    # open json\n",
    "    with open(json_path, 'r') as f:\n",
    "        preds = json.load(f)\n",
    "    \n",
    "    # per image classification\n",
    "    image_pred = defaultdict(list)\n",
    "\n",
    "    for bbox in preds:\n",
    "\n",
    "        img_id = bbox['image_id']\n",
    "        cls_id = bbox['category_id']\n",
    "        score = bbox['score'] * ((1-bbox['obj'])**0.1) * (bbox['clf']**0.1) \n",
    "        _bbox = [str(cls_id), str(score), str(max(0, bbox['bbox'][0])), str(max(0, bbox['bbox'][1])),\n",
    "                 str(min(1024, bbox['bbox'][0] + bbox['bbox'][2])),  str(min(1024, bbox['bbox'][1] + bbox['bbox'][3]))]\n",
    "        image_pred[img_id].append(_bbox)\n",
    "    \n",
    "    # concat predictions\n",
    "    prediction_strings = []\n",
    "    file_names = []\n",
    "\n",
    "    for i in range(4871):\n",
    "        assert image_pred[i]\n",
    "        bbox = list(chain.from_iterable(image_pred[i]))\n",
    "        prediction_strings.append(' '.join(bbox) + ' ')\n",
    "        file_names.append(f'test/{i:0>4}.jpg')   \n",
    "        \n",
    "    # to csv \n",
    "    submission = pd.DataFrame()\n",
    "    submission['PredictionString'] = prediction_strings\n",
    "    submission['image_id'] = file_names\n",
    "    submission.to_csv(save_name, index=None)\n",
    "    print(submission.head())"
   ]
  },
  {
   "cell_type": "code",
   "execution_count": 6,
   "id": "ce4d1002-9872-418a-9f42-75a88ace562c",
   "metadata": {},
   "outputs": [
    {
     "name": "stdout",
     "output_type": "stream",
     "text": [
      "                                    PredictionString       image_id\n",
      "0  7 0.9834055505963559 604.5 519.1 955.2 1023.7 ...  test/0000.jpg\n",
      "1  6 0.8104242296895047 759.6 663.2 898.6 989.800...  test/0001.jpg\n",
      "2  1 0.9067218807886644 297.8 316.4 1016.8 747.09...  test/0002.jpg\n",
      "3  9 0.9404726962234896 152.4 260.7 908.4 814.900...  test/0003.jpg\n",
      "4  1 0.7877352989631525 198.7 253.4 871.400000000...  test/0004.jpg\n"
     ]
    }
   ],
   "source": [
    "json_path = '/opt/ml/detection/result_clf.json'\n",
    "save_name = 'submission_clf2.csv'\n",
    "submit_clf(json_path, save_name)"
   ]
  },
  {
   "cell_type": "code",
   "execution_count": null,
   "id": "94188860-cbf0-4f18-85e6-5eb5c7ab2ddf",
   "metadata": {},
   "outputs": [],
   "source": []
  }
 ],
 "metadata": {
  "kernelspec": {
   "display_name": "mmdetectron",
   "language": "python",
   "name": "mmdetectron"
  },
  "language_info": {
   "codemirror_mode": {
    "name": "ipython",
    "version": 3
   },
   "file_extension": ".py",
   "mimetype": "text/x-python",
   "name": "python",
   "nbconvert_exporter": "python",
   "pygments_lexer": "ipython3",
   "version": "3.8.0"
  }
 },
 "nbformat": 4,
 "nbformat_minor": 5
}
