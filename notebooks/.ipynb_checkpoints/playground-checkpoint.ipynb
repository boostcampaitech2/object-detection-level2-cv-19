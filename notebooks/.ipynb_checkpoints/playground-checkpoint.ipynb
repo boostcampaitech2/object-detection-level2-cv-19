{
 "cells": [
  {
   "cell_type": "code",
   "execution_count": null,
   "id": "4c0f3f69-d3bb-4d83-92b9-b79d9fb9e46e",
   "metadata": {},
   "outputs": [],
   "source": []
  }
 ],
 "metadata": {
  "kernelspec": {
   "display_name": "swin",
   "language": "python",
   "name": "swin"
  },
  "language_info": {
   "codemirror_mode": {
    "name": "ipython",
    "version": 3
   },
   "file_extension": ".py",
   "mimetype": "text/x-python",
   "name": "python",
   "nbconvert_exporter": "python",
   "pygments_lexer": "ipython3",
   "version": "3.8.11"
  }
 },
 "nbformat": 4,
 "nbformat_minor": 5
}
