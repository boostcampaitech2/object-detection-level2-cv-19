{
 "cells": [
  {
   "cell_type": "code",
   "execution_count": 11,
   "id": "d178fc6e-0f77-435d-81e3-86999276cd00",
   "metadata": {},
   "outputs": [],
   "source": [
    "import pandas as pd\n",
    "from ensemble_boxes import *\n",
    "import numpy as np\n",
    "from pycocotools.coco import COCO"
   ]
  },
  {
   "cell_type": "code",
   "execution_count": 31,
   "id": "def2d33c-9047-4d42-ac9c-cb750a27d070",
   "metadata": {},
   "outputs": [],
   "source": [
    "csvs = {\n",
    "    'swinL_384' : '../Swin-Transformer-Object-Detection/work_dirs/swin/large_384_ms_50/submission.csv',\n",
    "    'swinL_384_pseudo' : 'swin_pseudo_384.csv',\n",
    "    'swinL_224' : 'swin224.csv',\n",
    "    'swin_balanced' : 'swin_balanced.csv',\n",
    "    'swin_anchor' : 'swin_anchor_pseudo.csv',\n",
    "    'swin_224_pseudo' : 'swin_pseudo.csv',\n",
    "    'yolo5l6' : '../yolov5/submission_yolo5l6_pseudo_ms.csv',\n",
    "    'yolo5x6' : '../yolov5/submission_yolo5x6_pseudo_ms.csv',\n",
    "    'effd4' : 'submission_effd4_pseudo.csv',\n",
    "    'effd5' : 'submission_effd5_pseudo.csv',\n",
    "       }"
   ]
  },
  {
   "cell_type": "code",
   "execution_count": 18,
   "id": "ec10f88f-f74d-49f4-a243-77d96ecf939e",
   "metadata": {},
   "outputs": [],
   "source": [
    "submission_files = [f'../efficientdet-pytorch/submission_effdet_d4_ap_{imgsz}.csv' for imgsz in [512, 768, 1024, 1536, 2048]]\n",
    "submission_df = [pd.read_csv(file) for file in submission_files]\n",
    "weights = [1, 1, 1, 1, 1]"
   ]
  },
  {
   "cell_type": "code",
   "execution_count": null,
   "id": "b00f1922-a6cc-4dbe-b22c-ff4463c8892c",
   "metadata": {},
   "outputs": [],
   "source": [
    ", , 'effd4', 'effd5'"
   ]
  },
  {
   "cell_type": "code",
   "execution_count": 74,
   "id": "8ae4a814-f207-4044-bf73-d227ed0f6691",
   "metadata": {},
   "outputs": [],
   "source": [
    "# ensemble csv files\n",
    "#submission_files = ['swinL_384', 'swinL_384_pseudo', 'swinL_224', 'swin_224_pseudo', 'swin_anchor', 'swin_balanced']\n",
    "#submission_files =['effd4', 'effd5']\n",
    "submission_files =['1.csv', '2.csv', '3.csv']\n",
    "weights = [1.2, 1, 1]\n",
    "\n",
    "submission_df = [pd.read_csv(file) for file in submission_files]"
   ]
  },
  {
   "cell_type": "code",
   "execution_count": 75,
   "id": "2736ec6d-4120-4414-bcc8-658d9d13cc83",
   "metadata": {},
   "outputs": [
    {
     "data": {
      "text/plain": [
       "[1.2, 1, 1]"
      ]
     },
     "execution_count": 75,
     "metadata": {},
     "output_type": "execute_result"
    }
   ],
   "source": [
    "weights"
   ]
  },
  {
   "cell_type": "code",
   "execution_count": 76,
   "id": "a1d4e4bb-1a39-468c-93c0-1fc4a3b0ed97",
   "metadata": {},
   "outputs": [],
   "source": [
    "image_ids = submission_df[0]['image_id'].tolist()"
   ]
  },
  {
   "cell_type": "code",
   "execution_count": 77,
   "id": "30ab6b5c-c82b-4297-b8c2-749b8e9922ac",
   "metadata": {},
   "outputs": [
    {
     "name": "stdout",
     "output_type": "stream",
     "text": [
      "loading annotations into memory...\n",
      "Done (t=0.01s)\n",
      "creating index...\n",
      "index created!\n"
     ]
    }
   ],
   "source": [
    "annotation = '../dataset/test.json'\n",
    "coco = COCO(annotation)"
   ]
  },
  {
   "cell_type": "code",
   "execution_count": 78,
   "id": "89b461ed-9a91-4dbb-be11-8ec298ae3f7a",
   "metadata": {},
   "outputs": [
    {
     "name": "stderr",
     "output_type": "stream",
     "text": [
      "/opt/conda/envs/mmdetection/lib/python3.8/site-packages/ensemble_boxes/ensemble_boxes_wbf.py:73: UserWarning: X2 > 1 in box. Set it to 1. Check that you normalize boxes in [0, 1] range.\n",
      "  warnings.warn('X2 > 1 in box. Set it to 1. Check that you normalize boxes in [0, 1] range.')\n",
      "/opt/conda/envs/mmdetection/lib/python3.8/site-packages/ensemble_boxes/ensemble_boxes_wbf.py:85: UserWarning: Y2 > 1 in box. Set it to 1. Check that you normalize boxes in [0, 1] range.\n",
      "  warnings.warn('Y2 > 1 in box. Set it to 1. Check that you normalize boxes in [0, 1] range.')\n"
     ]
    }
   ],
   "source": [
    "prediction_strings = []\n",
    "file_names = []\n",
    "iou_thr = 0.6\n",
    "cnt = 0\n",
    "\n",
    "for i, image_id in enumerate(image_ids):\n",
    "    prediction_string = ''\n",
    "    boxes_list = []\n",
    "    scores_list = []\n",
    "    labels_list = []\n",
    "    image_info = coco.loadImgs(i)[0]\n",
    "    \n",
    "    for df in submission_df:\n",
    "        predict_string = df[df['image_id'] == image_id]['PredictionString'].tolist()[0]\n",
    "        predict_list = str(predict_string).split()\n",
    "        \n",
    "        if len(predict_list)==0 or len(predict_list)==1:\n",
    "            continue\n",
    "            \n",
    "        predict_list = np.reshape(predict_list, (-1, 6))\n",
    "        box_list = []\n",
    "        \n",
    "        for box in predict_list[:, 2:6].tolist():\n",
    "            box[0] = float(box[0]) / image_info['width']\n",
    "            box[1] = float(box[1]) / image_info['height']\n",
    "            box[2] = float(box[2]) / image_info['width']\n",
    "            box[3] = float(box[3]) / image_info['height']\n",
    "            box_list.append(box)\n",
    "            \n",
    "        boxes_list.append(box_list)\n",
    "        scores_list.append(list(map(float, predict_list[:, 1].tolist())))\n",
    "        labels_list.append(list(map(int, predict_list[:, 0].tolist())))\n",
    "    \n",
    "    if len(boxes_list):\n",
    "        boxes, scores, labels = weighted_boxes_fusion(boxes_list, scores_list, labels_list, iou_thr=iou_thr, weights=weights)\n",
    "        labels = labels.astype(np.int32)\n",
    "        for box, score, label in zip(boxes, scores, labels):\n",
    "            \n",
    "            if score < 0.002:\n",
    "                continue\n",
    "\n",
    "#             w = box[3] * image_info['height'] - box[1] * image_info['height']\n",
    "#             b = box[2] * image_info['width'] - box[0] * image_info['width']\n",
    "            \n",
    "#             if w * b < 300:\n",
    "#                 cnt += 1\n",
    "#                 continue\n",
    "\n",
    "            prediction_string += str(label) + ' ' + str(round(score, 5)) + ' ' + str(round(box[0] * image_info['width'], 5)) + ' ' + str(round(box[1] * image_info['height'], 5)) + ' ' + str(round(box[2] * image_info['width'], 5)) + ' ' + str(round(box[3] * image_info['height'], 5)) + ' '\n",
    "    \n",
    "    prediction_strings.append(prediction_string)\n",
    "    file_names.append(image_id)"
   ]
  },
  {
   "cell_type": "code",
   "execution_count": 9,
   "id": "fee2ea11-d5e6-4d12-b12a-e9d7b6f9cf5f",
   "metadata": {},
   "outputs": [
    {
     "data": {
      "text/plain": [
       "2899"
      ]
     },
     "execution_count": 9,
     "metadata": {},
     "output_type": "execute_result"
    }
   ],
   "source": [
    "cnt"
   ]
  },
  {
   "cell_type": "code",
   "execution_count": 79,
   "id": "7c2477fe-441d-40b0-8752-e06df220b557",
   "metadata": {},
   "outputs": [
    {
     "data": {
      "text/html": [
       "<div>\n",
       "<style scoped>\n",
       "    .dataframe tbody tr th:only-of-type {\n",
       "        vertical-align: middle;\n",
       "    }\n",
       "\n",
       "    .dataframe tbody tr th {\n",
       "        vertical-align: top;\n",
       "    }\n",
       "\n",
       "    .dataframe thead th {\n",
       "        text-align: right;\n",
       "    }\n",
       "</style>\n",
       "<table border=\"1\" class=\"dataframe\">\n",
       "  <thead>\n",
       "    <tr style=\"text-align: right;\">\n",
       "      <th></th>\n",
       "      <th>PredictionString</th>\n",
       "      <th>image_id</th>\n",
       "    </tr>\n",
       "  </thead>\n",
       "  <tbody>\n",
       "    <tr>\n",
       "      <th>0</th>\n",
       "      <td>7 0.99007 216.44118 52.13371 455.1694 473.5999...</td>\n",
       "      <td>test/0000.jpg</td>\n",
       "    </tr>\n",
       "    <tr>\n",
       "      <th>1</th>\n",
       "      <td>6 0.77163 760.5282 663.88184 898.78876 990.993...</td>\n",
       "      <td>test/0001.jpg</td>\n",
       "    </tr>\n",
       "    <tr>\n",
       "      <th>2</th>\n",
       "      <td>1 0.90071 295.5282 305.53763 1014.19562 747.93...</td>\n",
       "      <td>test/0002.jpg</td>\n",
       "    </tr>\n",
       "    <tr>\n",
       "      <th>3</th>\n",
       "      <td>9 0.87487 155.99818 263.13571 908.04114 812.00...</td>\n",
       "      <td>test/0003.jpg</td>\n",
       "    </tr>\n",
       "    <tr>\n",
       "      <th>4</th>\n",
       "      <td>0 0.7945 431.93262 408.53339 656.51941 568.671...</td>\n",
       "      <td>test/0004.jpg</td>\n",
       "    </tr>\n",
       "  </tbody>\n",
       "</table>\n",
       "</div>"
      ],
      "text/plain": [
       "                                    PredictionString       image_id\n",
       "0  7 0.99007 216.44118 52.13371 455.1694 473.5999...  test/0000.jpg\n",
       "1  6 0.77163 760.5282 663.88184 898.78876 990.993...  test/0001.jpg\n",
       "2  1 0.90071 295.5282 305.53763 1014.19562 747.93...  test/0002.jpg\n",
       "3  9 0.87487 155.99818 263.13571 908.04114 812.00...  test/0003.jpg\n",
       "4  0 0.7945 431.93262 408.53339 656.51941 568.671...  test/0004.jpg"
      ]
     },
     "execution_count": 79,
     "metadata": {},
     "output_type": "execute_result"
    }
   ],
   "source": [
    "submission = pd.DataFrame()\n",
    "submission['PredictionString'] = prediction_strings\n",
    "submission['image_id'] = file_names\n",
    "submission.to_csv('tree.csv')\n",
    "submission.head()"
   ]
  },
  {
   "cell_type": "code",
   "execution_count": 198,
   "id": "27ea4a6b-c8ea-48ac-afe8-7a74f89d3092",
   "metadata": {},
   "outputs": [],
   "source": [
    "df = pd.read_csv('1.csv')"
   ]
  },
  {
   "cell_type": "code",
   "execution_count": 235,
   "id": "3866ccdd-32c7-4617-94b8-1102e9f91aef",
   "metadata": {},
   "outputs": [
    {
     "data": {
      "text/plain": [
       "2.6369904813110177"
      ]
     },
     "execution_count": 235,
     "metadata": {},
     "output_type": "execute_result"
    }
   ],
   "source": [
    "import time\n",
    "max_len = 0\n",
    "cnt = 0\n",
    "tot = 0\n",
    "for i, x in df.iterrows():\n",
    "    p = list(map(float, x['PredictionString'].split()[1::6]))\n",
    "    w = np.array(list(map(float, x['PredictionString'].split()[4::6]))) - np.array(list(map(float, x['PredictionString'].split()[2::6])))\n",
    "    h = np.array(list(map(float, x['PredictionString'].split()[5::6]))) - np.array(list(map(float, x['PredictionString'].split()[3::6])))\n",
    "    \n",
    "    for p_, w_, h_ in zip(p, w, h):\n",
    "        tot += 1\n",
    "        if w_*h_ <= 300:\n",
    "            cnt += 1\n",
    "            # if p_ > 0.1:\n",
    "            #     print(p_, w_*h_)\n",
    "(cnt*100)/tot"
   ]
  },
  {
   "cell_type": "code",
   "execution_count": 215,
   "id": "7a49e98d-74ba-4171-b2b8-38e65f5b579e",
   "metadata": {},
   "outputs": [
    {
     "name": "stdout",
     "output_type": "stream",
     "text": [
      "<class 'pandas.core.frame.DataFrame'>\n",
      "RangeIndex: 4871 entries, 0 to 4870\n",
      "Data columns (total 2 columns):\n",
      " #   Column            Non-Null Count  Dtype \n",
      "---  ------            --------------  ----- \n",
      " 0   PredictionString  4871 non-null   object\n",
      " 1   image_id          4871 non-null   object\n",
      "dtypes: object(2)\n",
      "memory usage: 76.2+ KB\n"
     ]
    }
   ],
   "source": [
    "df.info()"
   ]
  },
  {
   "cell_type": "code",
   "execution_count": null,
   "id": "a4e3d723-6755-4b47-974f-990a44a4bd89",
   "metadata": {},
   "outputs": [],
   "source": []
  }
 ],
 "metadata": {
  "kernelspec": {
   "display_name": "mmdetectron",
   "language": "python",
   "name": "mmdetectron"
  },
  "language_info": {
   "codemirror_mode": {
    "name": "ipython",
    "version": 3
   },
   "file_extension": ".py",
   "mimetype": "text/x-python",
   "name": "python",
   "nbconvert_exporter": "python",
   "pygments_lexer": "ipython3",
   "version": "3.8.0"
  }
 },
 "nbformat": 4,
 "nbformat_minor": 5
}
