{
 "cells": [
  {
   "cell_type": "code",
   "execution_count": 8,
   "id": "9cc22d06-8bf6-4330-98ac-814bad788345",
   "metadata": {},
   "outputs": [],
   "source": [
    "import json\n",
    "from collections import defaultdict\n",
    "from itertools import chain\n",
    "import pandas as pd\n",
    "\n",
    "def submit_yolo(json_path, save_name):\n",
    "    \n",
    "    # open json\n",
    "    with open(json_path) as f:\n",
    "        preds = json.load(f)\n",
    "    \n",
    "    # per image classification\n",
    "    image_pred = defaultdict(list)\n",
    "\n",
    "    for bbox in preds:\n",
    "\n",
    "        img_id = bbox['image_id']\n",
    "        cls_id = bbox['category_id']\n",
    "        score = bbox['score']\n",
    "        _bbox = [str(cls_id), str(score), str(max(0, bbox['bbox'][0])), str(max(0, bbox['bbox'][1])),\n",
    "                 str(min(1024, bbox['bbox'][0] + bbox['bbox'][2])),  str(min(1024, bbox['bbox'][1] + bbox['bbox'][3]))]\n",
    "        image_pred[img_id].append(_bbox)\n",
    "    \n",
    "    # concat predictions\n",
    "    prediction_strings = []\n",
    "    file_names = []\n",
    "\n",
    "    for i in range(4871):\n",
    "        assert image_pred[i]\n",
    "        bbox = list(chain.from_iterable(image_pred[i]))\n",
    "        prediction_strings.append(' '.join(bbox) + ' ')\n",
    "        file_names.append(f'test/{i:0>4}.jpg')   \n",
    "        \n",
    "    # to csv \n",
    "    submission = pd.DataFrame()\n",
    "    submission['PredictionString'] = prediction_strings\n",
    "    submission['image_id'] = file_names\n",
    "    submission.to_csv(save_name, index=None)\n",
    "    print(submission.head())"
   ]
  },
  {
   "cell_type": "code",
   "execution_count": 11,
   "id": "a0df48b4-7f45-4421-8217-8ae9acda2ba1",
   "metadata": {},
   "outputs": [
    {
     "name": "stdout",
     "output_type": "stream",
     "text": [
      "                                    PredictionString       image_id\n",
      "0  7 0.9768 603.306 519.4 955.8410000000001 1022....  test/0000.jpg\n",
      "1  5 0.92189 338.838 250.549 753.4870000000001 69...  test/0001.jpg\n",
      "2  1 0.95882 71.67 272.33 427.35 603.622 1 0.9336...  test/0002.jpg\n",
      "3  9 0.94572 143.549 263.974 910.525 806.567 9 0....  test/0003.jpg\n",
      "4  0 0.85446 426.128 408.862 655.071 569.479 1 0....  test/0004.jpg\n"
     ]
    }
   ],
   "source": [
    "json_path = 'runs/val/yolo5x6_ms_pseudo/last_predictions.json'\n",
    "save_name = 'submission_yolo5x6_pseudo_ms.csv'\n",
    "submit_yolo(json_path, save_name)"
   ]
  },
  {
   "cell_type": "code",
   "execution_count": null,
   "id": "6f5e0f39-1a2d-4065-a8a7-f06fc8a77705",
   "metadata": {},
   "outputs": [],
   "source": []
  }
 ],
 "metadata": {
  "kernelspec": {
   "display_name": "mmdetectron",
   "language": "python",
   "name": "mmdetectron"
  },
  "language_info": {
   "codemirror_mode": {
    "name": "ipython",
    "version": 3
   },
   "file_extension": ".py",
   "mimetype": "text/x-python",
   "name": "python",
   "nbconvert_exporter": "python",
   "pygments_lexer": "ipython3",
   "version": "3.8.0"
  }
 },
 "nbformat": 4,
 "nbformat_minor": 5
}
